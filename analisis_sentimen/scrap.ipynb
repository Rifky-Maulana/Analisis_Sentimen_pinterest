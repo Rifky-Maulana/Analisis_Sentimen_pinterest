{
  "nbformat": 4,
  "nbformat_minor": 0,
  "metadata": {
    "colab": {
      "provenance": []
    },
    "kernelspec": {
      "name": "python3",
      "display_name": "Python 3"
    },
    "language_info": {
      "name": "python"
    }
  },
  "cells": [
    {
      "cell_type": "code",
      "execution_count": 1,
      "metadata": {
        "colab": {
          "base_uri": "https://localhost:8080/"
        },
        "id": "oeWXus86qZln",
        "outputId": "48561d29-e152-4d64-c4d2-9ab1caf0c72c"
      },
      "outputs": [
        {
          "output_type": "stream",
          "name": "stdout",
          "text": [
            "Requirement already satisfied: google-play-scraper in /usr/local/lib/python3.11/dist-packages (1.2.7)\n"
          ]
        }
      ],
      "source": [
        "!pip install google-play-scraper\n",
        "\n",
        "# Mengimpor pustaka google_play_scraper untuk mengakses ulasan dan informasi aplikasi dari Google Play Store.\n",
        "from google_play_scraper import app, reviews, Sort, reviews_all\n",
        "import pandas as pd"
      ]
    },
    {
      "cell_type": "code",
      "source": [
        "scrapreview, _ = reviews(\n",
        "    'com.pinterest',       # ID aplikasi Pinterest\n",
        "    lang='id',             # Bahasa ulasan (Indonesia)\n",
        "    country='id',          # Negara (Indonesia)\n",
        "    sort=Sort.MOST_RELEVANT, # Urutkan berdasarkan ulasan paling relevan\n",
        "    count=20000\n",
        ")\n",
        "\n",
        "print(f\"Jumlah ulasan yang diambil: {len(scrapreview)}\")"
      ],
      "metadata": {
        "colab": {
          "base_uri": "https://localhost:8080/"
        },
        "id": "pjWMNjBgqnnM",
        "outputId": "dec5c2e5-3381-4c04-896a-ffed3075413d"
      },
      "execution_count": 2,
      "outputs": [
        {
          "output_type": "stream",
          "name": "stdout",
          "text": [
            "Jumlah ulasan yang diambil: 20000\n"
          ]
        }
      ]
    },
    {
      "source": [
        "# Fungsi untuk membersihkan teks\n",
        "import csv # Import the csv module\n",
        "import re\n",
        "import string\n",
        "\n",
        "def clean_text(text):\n",
        "    text = text.lower().strip()\n",
        "    text = re.sub(r'\\s+', ' ', text)\n",
        "    text = text.translate(str.maketrans('', '', string.punctuation))\n",
        "    return text\n",
        "\n",
        "# Simpan ke CSV setelah dibersihkan\n",
        "with open('ulasan_pinterest.csv', mode='w', newline='', encoding='utf-8') as file:\n",
        "    writer = csv.writer(file)\n",
        "    writer.writerow(['Review'])\n",
        "    for review in scrapreview:\n",
        "        writer.writerow([clean_text(review['content'])])"
      ],
      "cell_type": "code",
      "metadata": {
        "id": "0BjGqa9t2b7H"
      },
      "execution_count": 4,
      "outputs": []
    }
  ]
}